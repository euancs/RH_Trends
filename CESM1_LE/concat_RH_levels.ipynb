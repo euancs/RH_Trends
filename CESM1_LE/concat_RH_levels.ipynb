{
 "cells": [
  {
   "cell_type": "code",
   "execution_count": 1,
   "id": "e3c56810",
   "metadata": {},
   "outputs": [],
   "source": [
    "import xarray as xr"
   ]
  },
  {
   "cell_type": "code",
   "execution_count": 2,
   "id": "398de90f",
   "metadata": {},
   "outputs": [],
   "source": [
    "# Define strings so that files can be opened in a loop\n",
    "\n",
    "str1 = '/b.e11.B20TRC5CNBDRD'\n",
    "str2 = '.f09_g16'\n",
    "str3 = '.'\n",
    "str4 = '.cam.h0.RELHUM.1920-2005_level'\n",
    "str4a = '.cam.h0.RELHUM.1850-2005_level'\n",
    "str5 = '.nc'\n",
    "\n",
    "str_EP = 'East_Pacific_Mean'\n",
    "str_EP2 = '_EP_mean'\n",
    "\n",
    "str_trop = 'Tropical_Mean'\n",
    "str_trop2 = '_tropical_mean'\n",
    "\n",
    "str_zon = 'Zonal_Mean'\n",
    "str_zon2 = '_zonal_mean'\n",
    "\n",
    "season_strs = ['_DJF', '_MAM', '_JJA', '_SON']\n",
    "avg_strs = [str_zon, str_trop, str_EP]\n",
    "avg_strs2 = [str_zon2, str_trop2, str_EP2]"
   ]
  },
  {
   "cell_type": "code",
   "execution_count": 3,
   "id": "9b05a36c",
   "metadata": {},
   "outputs": [],
   "source": [
    "ensembles = ['001', '002', '003', '004', '005', '006', '007', '008', '009', '010',\n",
    "           '011', '012', '013', '014', '015', '016', '017', '018', '019', '020',\n",
    "           '021', '022', '023', '024', '025', '026', '027', '028', '029', '030',\n",
    "           '031', '032', '033', '034', '035', \n",
    "           '101', '102', '103', '104', '105', '106', '107']"
   ]
  },
  {
   "cell_type": "code",
   "execution_count": 6,
   "id": "65f5703b",
   "metadata": {},
   "outputs": [
    {
     "name": "stdout",
     "output_type": "stream",
     "text": [
      "Ensemble 022 complete\n"
     ]
    }
   ],
   "source": [
    "for i in range(21,22):\n",
    "    \n",
    "    for j in range(3):\n",
    "\n",
    "        dat0 = xr.open_dataset(avg_strs[j] + str1 + str2 + str3 + ensembles[i] + str4 + str(0) + avg_strs2[j] + str5)\n",
    "        dat1 = xr.open_dataset(avg_strs[j] + str1 + str2 + str3 + ensembles[i] + str4 + str(1) + avg_strs2[j] + str5)\n",
    "        dat2 = xr.open_dataset(avg_strs[j] + str1 + str2 + str3 + ensembles[i] + str4 + str(2) + avg_strs2[j] + str5)\n",
    "        dat3 = xr.open_dataset(avg_strs[j] + str1 + str2 + str3 + ensembles[i] + str4 + str(3) + avg_strs2[j] + str5)\n",
    "        dat4 = xr.open_dataset(avg_strs[j] + str1 + str2 + str3 + ensembles[i] + str4 + str(4) + avg_strs2[j] + str5)\n",
    "        dat5 = xr.open_dataset(avg_strs[j] + str1 + str2 + str3 + ensembles[i] + str4 + str(5) + avg_strs2[j] + str5)\n",
    "\n",
    "        \n",
    "        dat_all = xr.concat([dat0, dat1, dat2, dat3, dat4, dat5], dim='lev')\n",
    "\n",
    "        dat_all.to_netcdf(avg_strs[j] + str1 + str2 + str3 + ensembles[i] + str4[:-6] + avg_strs2[j] + str5)\n",
    "        \n",
    "        for k in range(4):\n",
    "            \n",
    "            dat0 = xr.open_dataset(avg_strs[j] + str1 + str2 + str3 + ensembles[i] + str4 + str(0) + season_strs[k] + avg_strs2[j] + str5)\n",
    "            dat1 = xr.open_dataset(avg_strs[j] + str1 + str2 + str3 + ensembles[i] + str4 + str(1) + season_strs[k] + avg_strs2[j] + str5)\n",
    "            dat2 = xr.open_dataset(avg_strs[j] + str1 + str2 + str3 + ensembles[i] + str4 + str(2) + season_strs[k] + avg_strs2[j] + str5)\n",
    "            dat3 = xr.open_dataset(avg_strs[j] + str1 + str2 + str3 + ensembles[i] + str4 + str(3) + season_strs[k] + avg_strs2[j] + str5)\n",
    "            dat4 = xr.open_dataset(avg_strs[j] + str1 + str2 + str3 + ensembles[i] + str4 + str(4) + season_strs[k] + avg_strs2[j] + str5)\n",
    "            dat5 = xr.open_dataset(avg_strs[j] + str1 + str2 + str3 + ensembles[i] + str4 + str(5) + season_strs[k] + avg_strs2[j] + str5)\n",
    "\n",
    "\n",
    "            dat_all = xr.concat([dat0, dat1, dat2, dat3, dat4, dat5], dim='lev')\n",
    "\n",
    "            dat_all.to_netcdf(avg_strs[j] + str1 + str2 + str3 + ensembles[i] + str4[:-6] + season_strs[k] + avg_strs2[j] + str5)\n",
    "            \n",
    "    print('Ensemble', ensembles[i], 'complete')"
   ]
  },
  {
   "cell_type": "code",
   "execution_count": null,
   "id": "924ce9c6",
   "metadata": {},
   "outputs": [],
   "source": []
  }
 ],
 "metadata": {
  "kernelspec": {
   "display_name": "RH_env",
   "language": "python",
   "name": "rh_env"
  },
  "language_info": {
   "codemirror_mode": {
    "name": "ipython",
    "version": 3
   },
   "file_extension": ".py",
   "mimetype": "text/x-python",
   "name": "python",
   "nbconvert_exporter": "python",
   "pygments_lexer": "ipython3",
   "version": "3.12.2"
  }
 },
 "nbformat": 4,
 "nbformat_minor": 5
}
